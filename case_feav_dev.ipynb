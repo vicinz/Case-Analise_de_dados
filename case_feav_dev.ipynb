{
 "cells": [
  {
   "cell_type": "markdown",
   "metadata": {},
   "source": [
    "# **Case Avançado**"
   ]
  },
  {
   "cell_type": "markdown",
   "metadata": {},
   "source": [
    "Wall-E é um robô compactador, deixado na Terra após a fuga dos humanos graças à grande quantidade de lixo acumulado no planeta. Durante sua rotina de compactar todo o lixo que encontra e empilha-lo, um dia Wall-E encontra outra robô, muito mais tecnológica, chamada EVA, que descobrimos ser da *Axiom*, uma nave gigantesca tripulada por toda a população humana mas que está ficando pequena para suportar a superpopulação para qual estão se encaminhando. Acompanhamos essa jornada incrível com ambos os personagens, tentando entender se a Terra já está \"saudável\" o suficiente para abrigar vida novamente."
   ]
  },
  {
   "cell_type": "markdown",
   "metadata": {},
   "source": [
    "<center> <img alt='Wall-E e EVA' width=80% src='https://images.alphacoders.com/112/112463.jpg'/> </center>"
   ]
  },
  {
   "cell_type": "code",
   "execution_count": 1,
   "metadata": {},
   "outputs": [
    {
     "name": "stdout",
     "output_type": "stream",
     "text": [
      "Requirement already satisfied: pandas in c:\\users\\vinit\\anaconda3\\lib\\site-packages (1.5.2)Note: you may need to restart the kernel to use updated packages.\n"
     ]
    },
    {
     "name": "stderr",
     "output_type": "stream",
     "text": [
      "WARNING: Ignoring invalid distribution -tatsmodels (c:\\users\\vinit\\anaconda3\\lib\\site-packages)"
     ]
    },
    {
     "name": "stdout",
     "output_type": "stream",
     "text": [
      "\n",
      "Requirement already satisfied: seaborn in c:\\users\\vinit\\anaconda3\\lib\\site-packages (0.11.2)\n",
      "Requirement already satisfied: matplotlib in c:\\users\\vinit\\anaconda3\\lib\\site-packages (3.4.3)\n",
      "Requirement already satisfied: plotly in c:\\users\\vinit\\anaconda3\\lib\\site-packages (5.11.0)\n",
      "Requirement already satisfied: geopandas in c:\\users\\vinit\\anaconda3\\lib\\site-packages (0.14.3)\n",
      "Requirement already satisfied: numpy in c:\\users\\vinit\\anaconda3\\lib\\site-packages (1.22.4)\n",
      "Requirement already satisfied: pytz>=2020.1 in c:\\users\\vinit\\anaconda3\\lib\\site-packages (from pandas) (2021.3)\n",
      "Requirement already satisfied: python-dateutil>=2.8.1 in c:\\users\\vinit\\anaconda3\\lib\\site-packages (from pandas) (2.8.2)\n",
      "Requirement already satisfied: scipy>=1.0 in c:\\users\\vinit\\anaconda3\\lib\\site-packages (from seaborn) (1.7.1)\n",
      "Requirement already satisfied: pillow>=6.2.0 in c:\\users\\vinit\\anaconda3\\lib\\site-packages (from matplotlib) (8.4.0)\n",
      "Requirement already satisfied: kiwisolver>=1.0.1 in c:\\users\\vinit\\anaconda3\\lib\\site-packages (from matplotlib) (1.3.1)\n",
      "Requirement already satisfied: pyparsing>=2.2.1 in c:\\users\\vinit\\anaconda3\\lib\\site-packages (from matplotlib) (3.0.4)\n",
      "Requirement already satisfied: cycler>=0.10 in c:\\users\\vinit\\anaconda3\\lib\\site-packages (from matplotlib) (0.10.0)\n",
      "Requirement already satisfied: tenacity>=6.2.0 in c:\\users\\vinit\\anaconda3\\lib\\site-packages (from plotly) (8.1.0)\n",
      "Requirement already satisfied: shapely>=1.8.0 in c:\\users\\vinit\\anaconda3\\lib\\site-packages (from geopandas) (2.0.3)\n",
      "Requirement already satisfied: packaging in c:\\users\\vinit\\anaconda3\\lib\\site-packages (from geopandas) (23.1)\n",
      "Requirement already satisfied: pyproj>=3.3.0 in c:\\users\\vinit\\anaconda3\\lib\\site-packages (from geopandas) (3.6.1)\n",
      "Requirement already satisfied: fiona>=1.8.21 in c:\\users\\vinit\\anaconda3\\lib\\site-packages (from geopandas) (1.9.6)\n",
      "Requirement already satisfied: six in c:\\users\\vinit\\anaconda3\\lib\\site-packages (from cycler>=0.10->matplotlib) (1.16.0)\n",
      "Requirement already satisfied: click-plugins>=1.0 in c:\\users\\vinit\\anaconda3\\lib\\site-packages (from fiona>=1.8.21->geopandas) (1.1.1)\n",
      "Requirement already satisfied: cligj>=0.5 in c:\\users\\vinit\\anaconda3\\lib\\site-packages (from fiona>=1.8.21->geopandas) (0.7.2)\n",
      "Requirement already satisfied: importlib-metadata in c:\\users\\vinit\\anaconda3\\lib\\site-packages (from fiona>=1.8.21->geopandas) (4.13.0)\n",
      "Requirement already satisfied: click~=8.0 in c:\\users\\vinit\\anaconda3\\lib\\site-packages (from fiona>=1.8.21->geopandas) (8.0.3)\n",
      "Requirement already satisfied: attrs>=19.2.0 in c:\\users\\vinit\\anaconda3\\lib\\site-packages (from fiona>=1.8.21->geopandas) (21.2.0)\n",
      "Requirement already satisfied: certifi in c:\\users\\vinit\\anaconda3\\lib\\site-packages (from fiona>=1.8.21->geopandas) (2021.10.8)\n",
      "Requirement already satisfied: colorama in c:\\users\\vinit\\anaconda3\\lib\\site-packages (from click~=8.0->fiona>=1.8.21->geopandas) (0.4.4)\n",
      "Requirement already satisfied: zipp>=0.5 in c:\\users\\vinit\\anaconda3\\lib\\site-packages (from importlib-metadata->fiona>=1.8.21->geopandas) (3.6.0)\n"
     ]
    },
    {
     "name": "stderr",
     "output_type": "stream",
     "text": [
      "\n",
      "WARNING: Ignoring invalid distribution -tatsmodels (c:\\users\\vinit\\anaconda3\\lib\\site-packages)\n",
      "WARNING: Ignoring invalid distribution -tatsmodels (c:\\users\\vinit\\anaconda3\\lib\\site-packages)\n",
      "WARNING: Ignoring invalid distribution -tatsmodels (c:\\users\\vinit\\anaconda3\\lib\\site-packages)\n",
      "WARNING: Ignoring invalid distribution -tatsmodels (c:\\users\\vinit\\anaconda3\\lib\\site-packages)\n",
      "WARNING: Ignoring invalid distribution -tatsmodels (c:\\users\\vinit\\anaconda3\\lib\\site-packages)\n"
     ]
    }
   ],
   "source": [
    "# Instalando as bibliotecas que vamos usar\n",
    "%pip install pandas seaborn matplotlib plotly geopandas numpy"
   ]
  },
  {
   "cell_type": "code",
   "execution_count": 2,
   "metadata": {},
   "outputs": [],
   "source": [
    "# Importando as bibliotecas\n",
    "import pandas as pd\n",
    "import seaborn as sns\n",
    "import matplotlib.pyplot as plt\n",
    "import plotly.express as px\n",
    "import numpy as np # importei essa biblioteca (utilizei no item \"a\" da questão 5 e no item \"b\" da bônus)"
   ]
  },
  {
   "cell_type": "markdown",
   "metadata": {},
   "source": [
    "## **Contextualização**\n",
    "\n"
   ]
  },
  {
   "cell_type": "markdown",
   "metadata": {},
   "source": [
    "Para ajudar Wall-E com sua missão de compactar o lixo do planeta, precisamos entender melhor sobre ele, por isso ele baixou um arquivo .csv com algumas informações sobre o lixo.\n",
    "\n",
    "**Descrição das Colunas do DataFrame:**\n",
    "- *dropoff_site*: Local onde o lixo será descartado\n",
    "- *load_id*: O número de identificação do carregamento\n",
    "- *load_time*: Horário de carregamento\n",
    "- *load_type*: Tipo de carregamento (ou de lixo)\n",
    "- *load_weight*: Peso do carregamento de lixo\n",
    "- *report_date*: Data do relatório\n",
    "- *route_number*: Número de identificação da rota\n",
    "- *route_type*: Tipo de rota"
   ]
  },
  {
   "cell_type": "markdown",
   "metadata": {},
   "source": [
    "## **Questão 1**"
   ]
  },
  {
   "cell_type": "markdown",
   "metadata": {},
   "source": [
    "### **a)** Leia o arquivo \"Wall-E.csv\" com nosso banco de dados, e o transforme em um Data Frame do Pandas."
   ]
  },
  {
   "cell_type": "code",
   "execution_count": 3,
   "metadata": {},
   "outputs": [
    {
     "data": {
      "text/html": [
       "<div>\n",
       "<style scoped>\n",
       "    .dataframe tbody tr th:only-of-type {\n",
       "        vertical-align: middle;\n",
       "    }\n",
       "\n",
       "    .dataframe tbody tr th {\n",
       "        vertical-align: top;\n",
       "    }\n",
       "\n",
       "    .dataframe thead th {\n",
       "        text-align: right;\n",
       "    }\n",
       "</style>\n",
       "<table border=\"1\" class=\"dataframe\">\n",
       "  <thead>\n",
       "    <tr style=\"text-align: right;\">\n",
       "      <th></th>\n",
       "      <th>dropoff_site</th>\n",
       "      <th>load_id</th>\n",
       "      <th>load_time</th>\n",
       "      <th>load_type</th>\n",
       "      <th>load_weight</th>\n",
       "      <th>report_date</th>\n",
       "      <th>route_number</th>\n",
       "      <th>route_type</th>\n",
       "    </tr>\n",
       "  </thead>\n",
       "  <tbody>\n",
       "    <tr>\n",
       "      <th>0</th>\n",
       "      <td>MRF</td>\n",
       "      <td>328118</td>\n",
       "      <td>2009-05-27 12:55:00</td>\n",
       "      <td>RECYCLING - SINGLE STREAM</td>\n",
       "      <td>4060.0</td>\n",
       "      <td>2009-05-27</td>\n",
       "      <td>DW1</td>\n",
       "      <td>RECYCLING - SINGLE STREAM</td>\n",
       "    </tr>\n",
       "    <tr>\n",
       "      <th>1</th>\n",
       "      <td>BRAKER SITE</td>\n",
       "      <td>308336</td>\n",
       "      <td>2008-12-16 10:55:00</td>\n",
       "      <td>SWEEPING</td>\n",
       "      <td>NaN</td>\n",
       "      <td>2008-12-16</td>\n",
       "      <td>NW10-R</td>\n",
       "      <td>STREET CLEANING-RESIDENTIAL</td>\n",
       "    </tr>\n",
       "    <tr>\n",
       "      <th>2</th>\n",
       "      <td>TDS - MRF</td>\n",
       "      <td>541514</td>\n",
       "      <td>2012-09-06 13:56:00</td>\n",
       "      <td>RECYCLING - SINGLE STREAM</td>\n",
       "      <td>5060.0</td>\n",
       "      <td>2012-09-06</td>\n",
       "      <td>RHBU20</td>\n",
       "      <td>RECYCLING - SINGLE STREAM</td>\n",
       "    </tr>\n",
       "    <tr>\n",
       "      <th>3</th>\n",
       "      <td>TDS LANDFILL</td>\n",
       "      <td>689059</td>\n",
       "      <td>2016-03-14 07:56:00</td>\n",
       "      <td>SWEEPING</td>\n",
       "      <td>3720.0</td>\n",
       "      <td>2016-03-14</td>\n",
       "      <td>DSS04</td>\n",
       "      <td>SWEEPER DUMPSITES</td>\n",
       "    </tr>\n",
       "    <tr>\n",
       "      <th>4</th>\n",
       "      <td>HORNSBY BEND</td>\n",
       "      <td>108272</td>\n",
       "      <td>2004-12-02 15:29:00</td>\n",
       "      <td>YARD TRIMMING</td>\n",
       "      <td>13840.0</td>\n",
       "      <td>2004-12-02</td>\n",
       "      <td>YH08</td>\n",
       "      <td>YARD TRIMMINGS</td>\n",
       "    </tr>\n",
       "  </tbody>\n",
       "</table>\n",
       "</div>"
      ],
      "text/plain": [
       "   dropoff_site  load_id            load_time                  load_type  \\\n",
       "0           MRF   328118  2009-05-27 12:55:00  RECYCLING - SINGLE STREAM   \n",
       "1   BRAKER SITE   308336  2008-12-16 10:55:00                   SWEEPING   \n",
       "2     TDS - MRF   541514  2012-09-06 13:56:00  RECYCLING - SINGLE STREAM   \n",
       "3  TDS LANDFILL   689059  2016-03-14 07:56:00                   SWEEPING   \n",
       "4  HORNSBY BEND   108272  2004-12-02 15:29:00              YARD TRIMMING   \n",
       "\n",
       "   load_weight report_date route_number                   route_type  \n",
       "0       4060.0  2009-05-27          DW1    RECYCLING - SINGLE STREAM  \n",
       "1          NaN  2008-12-16       NW10-R  STREET CLEANING-RESIDENTIAL  \n",
       "2       5060.0  2012-09-06       RHBU20    RECYCLING - SINGLE STREAM  \n",
       "3       3720.0  2016-03-14        DSS04            SWEEPER DUMPSITES  \n",
       "4      13840.0  2004-12-02         YH08               YARD TRIMMINGS  "
      ]
     },
     "execution_count": 3,
     "metadata": {},
     "output_type": "execute_result"
    }
   ],
   "source": [
    "# Transformando o arquivo \"Wall-E.csv\" em um Data Frame do pandas, armazenado na variável walle\n",
    "walle = pd.read_csv('C:\\\\Users\\\\vinit\\\\Downloads\\\\Wall-E.csv')\n",
    "\n",
    "# Visualização das primeiras 5 linhas do Data Frame\n",
    "walle.head()"
   ]
  },
  {
   "cell_type": "markdown",
   "metadata": {},
   "source": [
    "### **b)** Com o Data Frame em mãos precisamos mexer um pouco nele: Transforme a coluna *report_date* em DateTime (com o comando do Pandas!)"
   ]
  },
  {
   "cell_type": "code",
   "execution_count": 4,
   "metadata": {},
   "outputs": [
    {
     "data": {
      "text/plain": [
       "report_date    datetime64[ns]\n",
       "dtype: object"
      ]
     },
     "execution_count": 4,
     "metadata": {},
     "output_type": "execute_result"
    }
   ],
   "source": [
    "# Convertendo a coluna \"report_date\" do Data Frame walle para o formato DateTime\n",
    "walle['report_date'] = pd.to_datetime(walle['report_date'])\n",
    "\n",
    "# Visualização do formato da coluna \"report_date\"\n",
    "walle[['report_date']].dtypes"
   ]
  },
  {
   "cell_type": "markdown",
   "metadata": {},
   "source": [
    "### **c)** Agora precisamos limpar o data frame: retire as linhas que não tenham o peso do carregamento (*load_weight*), ou seja, aquelas com valor Na, e as últimas 2 colunas, que não usaremos. Lembre-se de resetar o índice do data frame após isso!"
   ]
  },
  {
   "cell_type": "code",
   "execution_count": 5,
   "metadata": {
    "scrolled": true
   },
   "outputs": [
    {
     "data": {
      "text/plain": [
       "dropoff_site    0\n",
       "load_id         0\n",
       "load_time       0\n",
       "load_type       0\n",
       "load_weight     0\n",
       "report_date     0\n",
       "dtype: int64"
      ]
     },
     "execution_count": 5,
     "metadata": {},
     "output_type": "execute_result"
    }
   ],
   "source": [
    "# Retirando as duas últimas colunas do Data Frame walle\n",
    "walle = walle.drop(['route_number', 'route_type'], axis = 1)\n",
    "\n",
    "# Retirando as linhas que não tem peso de carregamento\n",
    "walle = walle.dropna(subset = 'load_weight')\n",
    "\n",
    "# Resetando o índice do Data Frame\n",
    "walle = walle.reset_index(drop = True)\n",
    "\n",
    "# Verificando se tem algum valor Na restante e as colunas restantes do Data Frame\n",
    "walle.isna().sum()\n"
   ]
  },
  {
   "cell_type": "markdown",
   "metadata": {},
   "source": [
    "## **Questão 2**\n",
    "\n",
    "#### Podemos retirar algumas informações importantes do dataframe relacionados aos diferentes tipos de lixo e seus descartes, para otimizar o trabalho de Wall-E e saber quanto trabalho já foi feito na Terra.\n",
    "\n",
    "### **a)** Agora que você já descartou os dados sujos do dataframe, conte quantos lixos temos de cada tipo na base de dados."
   ]
  },
  {
   "cell_type": "code",
   "execution_count": 6,
   "metadata": {},
   "outputs": [
    {
     "name": "stdout",
     "output_type": "stream",
     "text": [
      "A base de dados possui 18 tipos de lixo.\n"
     ]
    }
   ],
   "source": [
    "# Criando a variável que contem os valores distintos de \"load_type\",  os tipos de lixo\n",
    "tipos_lixo = walle['load_type'].unique()\n",
    "\n",
    "# Loop que conta quantos tipos de lixo diferentes temos na variável tipos de lixo\n",
    "contador = 0\n",
    "for tipo in tipos_lixo:\n",
    "    contador += 1\n",
    "\n",
    "# Print de quantos tipos de lixo a base de dados tem\n",
    "print(f'A base de dados possui {contador} tipos de lixo.')"
   ]
  },
  {
   "cell_type": "markdown",
   "metadata": {},
   "source": [
    "### **b)** Calcule o peso médio do quanto foi descartado de cada tipo de lixo."
   ]
  },
  {
   "cell_type": "code",
   "execution_count": 7,
   "metadata": {},
   "outputs": [
    {
     "name": "stdout",
     "output_type": "stream",
     "text": [
      "O peso médio descartado do tipo de lixo RECYCLING - SINGLE STREAM é 9894.340909776325.\n",
      "O peso médio descartado do tipo de lixo SWEEPING é 11999.395781167008.\n",
      "O peso médio descartado do tipo de lixo YARD TRIMMING é 11575.960831478424.\n",
      "O peso médio descartado do tipo de lixo RECYCLING - COMINGLE é 3262.465580408793.\n",
      "O peso médio descartado do tipo de lixo GARBAGE COLLECTIONS é 17005.31112062884.\n",
      "O peso médio descartado do tipo de lixo RECYCLING - PAPER é 4405.586067485617.\n",
      "O peso médio descartado do tipo de lixo BRUSH é 5847.707561168114.\n",
      "O peso médio descartado do tipo de lixo BULK é 7292.02498950699.\n",
      "O peso médio descartado do tipo de lixo BAGGED LITTER é 12937.642857142857.\n",
      "O peso médio descartado do tipo de lixo DEAD ANIMAL é 528.0066691367173.\n",
      "O peso médio descartado do tipo de lixo MULCH é 7969.176339285715.\n",
      "O peso médio descartado do tipo de lixo RECYCLED METAL é 3004.2115085536548.\n",
      "O peso médio descartado do tipo de lixo TIRES é 2180.424006908463.\n",
      "O peso médio descartado do tipo de lixo LITTER é 3795.6583333333333.\n",
      "O peso médio descartado do tipo de lixo MIXED LITTER é 4110.199836867863.\n",
      "O peso médio descartado do tipo de lixo RECYCLING - PLASTIC BAGS é 194.175.\n",
      "O peso médio descartado do tipo de lixo MATTRESS é 4745.0.\n",
      "O peso médio descartado do tipo de lixo YARD TRIMMING - X-MAS TREES é 11258.461538461539.\n"
     ]
    }
   ],
   "source": [
    "# Rode o item \"a\" dessa questão, por causa da variável \"tipos_lixo\"\n",
    "\n",
    "# Criando as variáveis dos loops, como dicionários vazios\n",
    "walle_por_tipo = {}\n",
    "medias = {}\n",
    "\n",
    "# Loop de iteração para cada tipo de lixo\n",
    "for tipo in tipos_lixo:\n",
    "\n",
    "# No dicionário \"walle_por_tipo\" são criados Data Frames filtrados por cada tipo de lixo\n",
    "    walle_por_tipo[f'{tipo}'] = walle.loc[walle['load_type'] == tipo]\n",
    "\n",
    "# No dicionário \"medias\" são adicionados, para cada tipo de lixo, o cálculo da média da coluna load_weight\n",
    "# de cada Data Frame no dicionário \"walle_por_tipo\"\n",
    "    medias[f'{tipo}'] = walle_por_tipo[f'{tipo}']['load_weight'].mean()\n",
    "    \n",
    "# Print da média de peso de cada tipo de lixo\n",
    "    print(f'O peso médio descartado do tipo de lixo {tipo} é {medias.get(tipo)}.')"
   ]
  },
  {
   "cell_type": "markdown",
   "metadata": {},
   "source": [
    "## **Questão 3**"
   ]
  },
  {
   "cell_type": "markdown",
   "metadata": {},
   "source": [
    "### Faça um gráfico da evolução do peso médio _anual_ ao longo do tempo (usando matplot, seaborn ou plotly)"
   ]
  },
  {
   "cell_type": "code",
   "execution_count": 8,
   "metadata": {},
   "outputs": [
    {
     "data": {
      "image/png": "[encoded data removed]",
      "text/plain": [
       "<Figure size 432x288 with 1 Axes>"
      ]
     },
     "metadata": {
      "needs_background": "light"
     },
     "output_type": "display_data"
    }
   ],
   "source": [
    "# Criando nova coluna no Data Frame \"walle\" com o ano da coluna \"report_date\"\n",
    "walle['year_report_date'] = walle['report_date'].dt.year\n",
    "\n",
    "# Criando tabela dinâmica com o peso médio do lixo por ano\n",
    "peso_medio_ano = pd.pivot_table(walle,\n",
    "              'load_weight',\n",
    "              'year_report_date',\n",
    "              aggfunc = 'mean')\n",
    "\n",
    "# Resetando o índice do Data Frame criado acima\n",
    "peso_medio_ano = peso_medio_ano.reset_index()\n",
    "\n",
    "# Criando o gráfico do peso médio por ano, na cor preta com marcadores e grossura da linha = 2\n",
    "plt.plot(peso_medio_ano['year_report_date'], peso_medio_ano['load_weight'],\n",
    "         color = 'k',\n",
    "         marker = '.',\n",
    "         linewidth = 2\n",
    "        )\n",
    "\n",
    "# Nomeando o eixo x como \"Anos\" e o eixo y como \"Peso médio do lixo\"\n",
    "plt.xlabel('Anos')\n",
    "plt.ylabel('Peso médio do lixo')\n",
    "\n",
    "# Título do gráfico como \"Peso Médio Anual\"\n",
    "plt.title('Peso Médio Anual')\n",
    "\n",
    "# Mostrando nome\n",
    "plt.show()"
   ]
  },
  {
   "cell_type": "markdown",
   "metadata": {},
   "source": [
    "## **Contextualização**"
   ]
  },
  {
   "cell_type": "markdown",
   "metadata": {},
   "source": [
    "Que o planeta não suporta todo o lixo que a humanidade é capaz de produzir, isso é fato. Sabemos também que a população mundial cresce a cada dia, e com ela, a produção de lixo. Nesse sentido, faz-se necessário acompanhar e prever o crescimento populacional de forma a identificar quanto tempo ainda temos para salvar a Terra e evitar que cheguemos ao apocalipse igual ao presenciado pelo Wall-E."
   ]
  },
  {
   "cell_type": "markdown",
   "metadata": {},
   "source": [
    "Para tanto, vamos ajudar EVA a enfrentar seus problemas na Axiom, trabalhando  com uma base de dados contendo informações sobre a população mundial, e buscaremos fazer análises que nos apresentem insights sobre o futuro do nosso planeta. As colunas com as quais trabalharemos são:\n",
    "\n",
    "- *country*: nome do país\n",
    "- *rank*: posição do país em termos de população (em 2023)\n",
    "- *area*: área total do país em quilômetros quadrados\n",
    "- *landAreaKm*: área terrestre do país em quilômetros quadrados\n",
    "- *cca2*: código de dois caracteres do país\n",
    "- *cca3*: código de três caracteres do país\n",
    "- *netChange*: variação líquida da população (%)\n",
    "- *growthRate*: taxa de crescimento da população (%)\n",
    "- *worldPercentage*: percentual da população mundial do país (em 2023)\n",
    "- *density*: densidade populacional por quilômetro quadrado (em 2023)\n",
    "- *densityMi*: densidade populacional por milha quadrada\n",
    "- *place*: número representativo associado ao país\n",
    "- *pop1980*: população do país em 1980\n",
    "- *pop2000*: população do país em 2000\n",
    "- *pop2010*: população do país em 2010\n",
    "- *pop2022*: população do país em 2022\n",
    "- *pop2023*: população do país em 2023\n",
    "- *pop2030*: população do país em 2030\n",
    "- *pop2050*: população do país em 2050"
   ]
  },
  {
   "cell_type": "markdown",
   "metadata": {},
   "source": [
    "## **Questão 4**"
   ]
  },
  {
   "cell_type": "markdown",
   "metadata": {},
   "source": [
    "### **a)** Inicialmente, leia o arquivo \"EVA.csv\" com nosso banco de dados, e o transforme em um Data Frame do Pandas.\n"
   ]
  },
  {
   "cell_type": "code",
   "execution_count": 9,
   "metadata": {},
   "outputs": [
    {
     "data": {
      "text/html": [
       "<div>\n",
       "<style scoped>\n",
       "    .dataframe tbody tr th:only-of-type {\n",
       "        vertical-align: middle;\n",
       "    }\n",
       "\n",
       "    .dataframe tbody tr th {\n",
       "        vertical-align: top;\n",
       "    }\n",
       "\n",
       "    .dataframe thead th {\n",
       "        text-align: right;\n",
       "    }\n",
       "</style>\n",
       "<table border=\"1\" class=\"dataframe\">\n",
       "  <thead>\n",
       "    <tr style=\"text-align: right;\">\n",
       "      <th></th>\n",
       "      <th>country</th>\n",
       "      <th>rank</th>\n",
       "      <th>area</th>\n",
       "      <th>landAreaKm</th>\n",
       "      <th>cca2</th>\n",
       "      <th>cca3</th>\n",
       "      <th>netChange</th>\n",
       "      <th>growthRate</th>\n",
       "      <th>worldPercentage</th>\n",
       "      <th>density</th>\n",
       "      <th>densityMi</th>\n",
       "      <th>place</th>\n",
       "      <th>pop1980</th>\n",
       "      <th>pop2000</th>\n",
       "      <th>pop2010</th>\n",
       "      <th>pop2022</th>\n",
       "      <th>pop2023</th>\n",
       "      <th>pop2030</th>\n",
       "      <th>pop2050</th>\n",
       "    </tr>\n",
       "  </thead>\n",
       "  <tbody>\n",
       "    <tr>\n",
       "      <th>0</th>\n",
       "      <td>India</td>\n",
       "      <td>1</td>\n",
       "      <td>3287590.0</td>\n",
       "      <td>2973190.0</td>\n",
       "      <td>IN</td>\n",
       "      <td>IND</td>\n",
       "      <td>0.4184</td>\n",
       "      <td>0.0081</td>\n",
       "      <td>0.1785</td>\n",
       "      <td>480.5033</td>\n",
       "      <td>1244.5036</td>\n",
       "      <td>356</td>\n",
       "      <td>696828385</td>\n",
       "      <td>1059633675</td>\n",
       "      <td>1240613620</td>\n",
       "      <td>1417173173</td>\n",
       "      <td>1428627663</td>\n",
       "      <td>1514994080</td>\n",
       "      <td>1670490596</td>\n",
       "    </tr>\n",
       "    <tr>\n",
       "      <th>1</th>\n",
       "      <td>China</td>\n",
       "      <td>2</td>\n",
       "      <td>9706961.0</td>\n",
       "      <td>9424702.9</td>\n",
       "      <td>CN</td>\n",
       "      <td>CHN</td>\n",
       "      <td>-0.0113</td>\n",
       "      <td>-0.0002</td>\n",
       "      <td>0.1781</td>\n",
       "      <td>151.2696</td>\n",
       "      <td>391.7884</td>\n",
       "      <td>156</td>\n",
       "      <td>982372466</td>\n",
       "      <td>1264099069</td>\n",
       "      <td>1348191368</td>\n",
       "      <td>1425887337</td>\n",
       "      <td>1425671352</td>\n",
       "      <td>1415605906</td>\n",
       "      <td>1312636325</td>\n",
       "    </tr>\n",
       "    <tr>\n",
       "      <th>2</th>\n",
       "      <td>United States</td>\n",
       "      <td>3</td>\n",
       "      <td>9372610.0</td>\n",
       "      <td>9147420.0</td>\n",
       "      <td>US</td>\n",
       "      <td>USA</td>\n",
       "      <td>0.0581</td>\n",
       "      <td>0.0050</td>\n",
       "      <td>0.0425</td>\n",
       "      <td>37.1686</td>\n",
       "      <td>96.2666</td>\n",
       "      <td>840</td>\n",
       "      <td>223140018</td>\n",
       "      <td>282398554</td>\n",
       "      <td>311182845</td>\n",
       "      <td>338289857</td>\n",
       "      <td>339996563</td>\n",
       "      <td>352162301</td>\n",
       "      <td>375391963</td>\n",
       "    </tr>\n",
       "    <tr>\n",
       "      <th>3</th>\n",
       "      <td>Indonesia</td>\n",
       "      <td>4</td>\n",
       "      <td>1904569.0</td>\n",
       "      <td>1877519.0</td>\n",
       "      <td>ID</td>\n",
       "      <td>IDN</td>\n",
       "      <td>0.0727</td>\n",
       "      <td>0.0074</td>\n",
       "      <td>0.0347</td>\n",
       "      <td>147.8196</td>\n",
       "      <td>382.8528</td>\n",
       "      <td>360</td>\n",
       "      <td>148177096</td>\n",
       "      <td>214072421</td>\n",
       "      <td>244016173</td>\n",
       "      <td>275501339</td>\n",
       "      <td>277534122</td>\n",
       "      <td>292150100</td>\n",
       "      <td>317225213</td>\n",
       "    </tr>\n",
       "    <tr>\n",
       "      <th>4</th>\n",
       "      <td>Pakistan</td>\n",
       "      <td>5</td>\n",
       "      <td>881912.0</td>\n",
       "      <td>770880.0</td>\n",
       "      <td>PK</td>\n",
       "      <td>PAK</td>\n",
       "      <td>0.1495</td>\n",
       "      <td>0.0198</td>\n",
       "      <td>0.0300</td>\n",
       "      <td>311.9625</td>\n",
       "      <td>807.9829</td>\n",
       "      <td>586</td>\n",
       "      <td>80624057</td>\n",
       "      <td>154369924</td>\n",
       "      <td>194454498</td>\n",
       "      <td>235824862</td>\n",
       "      <td>240485658</td>\n",
       "      <td>274029836</td>\n",
       "      <td>367808468</td>\n",
       "    </tr>\n",
       "  </tbody>\n",
       "</table>\n",
       "</div>"
      ],
      "text/plain": [
       "         country  rank       area  landAreaKm cca2 cca3  netChange  \\\n",
       "0          India     1  3287590.0   2973190.0   IN  IND     0.4184   \n",
       "1          China     2  9706961.0   9424702.9   CN  CHN    -0.0113   \n",
       "2  United States     3  9372610.0   9147420.0   US  USA     0.0581   \n",
       "3      Indonesia     4  1904569.0   1877519.0   ID  IDN     0.0727   \n",
       "4       Pakistan     5   881912.0    770880.0   PK  PAK     0.1495   \n",
       "\n",
       "   growthRate  worldPercentage   density  densityMi  place    pop1980  \\\n",
       "0      0.0081           0.1785  480.5033  1244.5036    356  696828385   \n",
       "1     -0.0002           0.1781  151.2696   391.7884    156  982372466   \n",
       "2      0.0050           0.0425   37.1686    96.2666    840  223140018   \n",
       "3      0.0074           0.0347  147.8196   382.8528    360  148177096   \n",
       "4      0.0198           0.0300  311.9625   807.9829    586   80624057   \n",
       "\n",
       "      pop2000     pop2010     pop2022     pop2023     pop2030     pop2050  \n",
       "0  1059633675  1240613620  1417173173  1428627663  1514994080  1670490596  \n",
       "1  1264099069  1348191368  1425887337  1425671352  1415605906  1312636325  \n",
       "2   282398554   311182845   338289857   339996563   352162301   375391963  \n",
       "3   214072421   244016173   275501339   277534122   292150100   317225213  \n",
       "4   154369924   194454498   235824862   240485658   274029836   367808468  "
      ]
     },
     "execution_count": 9,
     "metadata": {},
     "output_type": "execute_result"
    }
   ],
   "source": [
    "# Transformando o arquivo \"eva.csv\" em um Data Frame do pandas, armazenado na variável eva\n",
    "eva = pd.read_csv('C:\\\\Users\\\\vinit\\\\Downloads\\\\eva.csv')\n",
    "\n",
    "eva.head()"
   ]
  },
  {
   "cell_type": "markdown",
   "metadata": {},
   "source": [
    "### **b)** Agora, apresente os cinco países que mais crescem durante o período estudado. Para isso, utilize como base a coluna *growthRate*. Dê a taxa, os nomes e em que rank estão os países.\n"
   ]
  },
  {
   "cell_type": "code",
   "execution_count": 10,
   "metadata": {},
   "outputs": [
    {
     "name": "stdout",
     "output_type": "stream",
     "text": [
      "O país que está em 1° lugar na taxa de crescimento é Syria. A taxa foi de 0.0498.\n",
      "O país que está em 2° lugar na taxa de crescimento é Moldova. A taxa foi de 0.0498.\n",
      "O país que está em 3° lugar na taxa de crescimento é Niger. A taxa foi de 0.038.\n",
      "O país que está em 4° lugar na taxa de crescimento é DR Congo. A taxa foi de 0.0329.\n",
      "O país que está em 5° lugar na taxa de crescimento é Chad. A taxa foi de 0.0313.\n"
     ]
    }
   ],
   "source": [
    "# Organiza as linhas do Data Frame \"eva\" por ordem crescente da coluna \"growthRate\"\n",
    "crescente_paises_growth_rate = eva.sort_values(by=['growthRate'],\n",
    "                                               ascending = False)\n",
    "\n",
    "# Resetando o índice do Data Frame\n",
    "crescente_paises_growth_rate = crescente_paises_growth_rate.reset_index(drop = True)\n",
    "\n",
    "# Loop que printa, dos 5 primeiros países do Data Frame, o ranking de cada país e sua taxa de crescimento\n",
    "ranking = 0\n",
    "while ranking < 5:\n",
    "    print(f'O país que está em {ranking + 1}° lugar na taxa de crescimento é {crescente_paises_growth_rate.loc[ranking, \"country\"]}. A taxa foi de {crescente_paises_growth_rate.loc[ranking, \"growthRate\"]}.')\n",
    "    ranking += 1"
   ]
  },
  {
   "cell_type": "markdown",
   "metadata": {},
   "source": [
    "### **c)** Por fim, apresente os cinco países menos densos. Dê sua densidade, seu nome, sua área de terra e sua população total em 2023."
   ]
  },
  {
   "cell_type": "code",
   "execution_count": 11,
   "metadata": {},
   "outputs": [
    {
     "name": "stdout",
     "output_type": "stream",
     "text": [
      "O pais em 1° lugar com a menor densidade é Greenland.\n",
      "Sua densidade populacional por quilômetro quadrado é 0.138.\n",
      "Sua área é de 410450.0 quilômetros quadrados.\n",
      "E sua população em 2023 é de 56643 habitantes.\n",
      "\n",
      "O pais em 2° lugar com a menor densidade é Falkland Islands.\n",
      "Sua densidade populacional por quilômetro quadrado é 0.3114.\n",
      "Sua área é de 12173.0 quilômetros quadrados.\n",
      "E sua população em 2023 é de 3791 habitantes.\n",
      "\n",
      "O pais em 3° lugar com a menor densidade é Western Sahara.\n",
      "Sua densidade populacional por quilômetro quadrado é 2.2077.\n",
      "Sua área é de 266000.0 quilômetros quadrados.\n",
      "E sua população em 2023 é de 587259 habitantes.\n",
      "\n",
      "O pais em 4° lugar com a menor densidade é Mongolia.\n",
      "Sua densidade populacional por quilômetro quadrado é 2.2133.\n",
      "Sua área é de 1557506.8 quilômetros quadrados.\n",
      "E sua população em 2023 é de 3447157 habitantes.\n",
      "\n",
      "O pais em 5° lugar com a menor densidade é Namibia.\n",
      "Sua densidade populacional por quilômetro quadrado é 3.1631.\n",
      "Sua área é de 823290.0 quilômetros quadrados.\n",
      "E sua população em 2023 é de 2604172 habitantes.\n",
      "\n"
     ]
    }
   ],
   "source": [
    "# Organiza as linhas do Data Frame \"eva\" por ordem decrescente da coluna \"density\"\n",
    "decrescente_paises_densidade = eva.sort_values(by=['density'],\n",
    "                                               ascending = True)\n",
    "\n",
    "# Resetando o índice do Data Frame\n",
    "decrescente_paises_densidade = decrescente_paises_densidade.reset_index(drop = True)\n",
    "\n",
    "# Loop que printa, dos 5 países menos densos do Data Frame, o ranking de menor densidade de cada país, sua densidade, sua área e sua população \n",
    "for ranking in range(0, 5):\n",
    "    print(f\"O pais em {ranking + 1}° lugar com a menor densidade é {decrescente_paises_densidade.loc[ranking,'country']}.\")\n",
    "    print(f\"Sua densidade populacional por quilômetro quadrado é {decrescente_paises_densidade.loc[ranking,'density']}.\") \n",
    "    print(f\"Sua área é de {decrescente_paises_densidade.loc[ranking,'landAreaKm']} quilômetros quadrados.\")\n",
    "    print(f\"E sua população em 2023 é de {decrescente_paises_densidade.loc[ranking,'pop2023']} habitantes.\")\n",
    "    print('')"
   ]
  },
  {
   "cell_type": "markdown",
   "metadata": {},
   "source": [
    "## **Questão 5**"
   ]
  },
  {
   "cell_type": "markdown",
   "metadata": {},
   "source": [
    "### **a)** A partir dos dados da população mundial projetada para 2030, crie um gráfico de pizza com a porcentagem de cada país. Agrupe todos os países com menos de 1% da população mundial na classe \"Outros\"."
   ]
  },
  {
   "cell_type": "code",
   "execution_count": 12,
   "metadata": {},
   "outputs": [
    {
     "data": {
      "image/png": "[encoded data removed]",
      "text/plain": [
       "<Figure size 432x288 with 1 Axes>"
      ]
     },
     "metadata": {},
     "output_type": "display_data"
    }
   ],
   "source": [
    "# Cria coluna no Data Frame \"eva\", que contém a porcentagem da população mundial de cada país em 2030\n",
    "eva['pop2030%'] = (eva['pop2030']/eva['pop2030'].sum())*100\n",
    "\n",
    "# Cria coluna no Data Frame \"eva\", que coloca o nome \"Outros\" se população mundial do país for menor que 1%, caso contrário coloca o nome do país \n",
    "eva['pais_outros'] = np.where(eva['pop2030%'] < 1,\n",
    "                              'Outros',\n",
    "                              eva['country'])\n",
    "\n",
    "# Tabela dinâmica da porcentagem dos países, se for menor que 1% será agrupado em \"Outros\", de acordo com a coluna acima\n",
    "pizza = pd.pivot_table(eva,\n",
    "                      'pop2030%',\n",
    "                      'pais_outros',\n",
    "                      aggfunc= 'sum')\n",
    "\n",
    "# Organizando o Data Frame \"pizza\" por ordem decrescente de \"pop2030%\"\n",
    "pizza = pizza.sort_values(by = ['pop2030%'], ascending = False)\n",
    "\n",
    "# Reseta o índice do Data Frame \"pizza\"\n",
    "pizza = pizza.reset_index()\n",
    "\n",
    "# Loop que gera uma lista dos países que possuem mais que 4% da população mundial, será usado no argumento \"labels\" do gráfico \n",
    "# Os páises que tem mais que 4% da população mundial terão seus nomes expostos no gráfico\n",
    "pais_outros_format = []\n",
    "for indice, pais in enumerate(pizza['pais_outros']):\n",
    "    if pizza.loc[indice, 'pop2030%'] > 4:\n",
    "        pais_outros_format.append(f'{pais}')\n",
    "    else:\n",
    "        pais_outros_format.append('')\n",
    "\n",
    "# Função que será usada no argumento \"autopct\" do gráfico, se o país possui uma porcentagem da população mundial maior que 5% sua porcentagem aparece no gráfico \n",
    "porcentagem_aparece = lambda pop: f'{pop:.0f}%' if pop > 5 else None\n",
    "\n",
    "# Plot do gráfico de pizza\n",
    "plt.pie(pizza['pop2030%'], labels = pais_outros_format, autopct = porcentagem_aparece)\n",
    "\n",
    "# Título do gráfico\n",
    "plt.title('Distribuição da população por país em 2030')\n",
    "\n",
    "# Mostrar gráfico\n",
    "plt.show()"
   ]
  },
  {
   "cell_type": "markdown",
   "metadata": {},
   "source": [
    "### **b)** A partir das projeções das populações mundiais, calcule a _taxa anual_ de variação entre os anos de 2023 e 2030 e, em seguida, entre 2030 e 2050. Apresente esses valores em box plots e contraste as diferenças de distribuição de dados. Interprete os resultados. (Tenha em mente perguntas como: as médias variaram? Os quantis indicam que mais países tem valores menos ou maiores de crescimento? O mundo está crescendo mais rápido ou menos rápido ao aproximar-se da metade do século?)"
   ]
  },
  {
   "cell_type": "code",
   "execution_count": 13,
   "metadata": {
    "scrolled": true
   },
   "outputs": [
    {
     "data": {
      "image/png": "[encoded data removed]",
      "text/plain": [
       "<Figure size 432x288 with 1 Axes>"
      ]
     },
     "metadata": {
      "needs_background": "light"
     },
     "output_type": "display_data"
    }
   ],
   "source": [
    "# Cálculo da variação anual da população entre 2023 e 2030\n",
    "# como a taxa é anual divide-se por 7, já que o período de comparação é de 7 anos\n",
    "eva['variacao_ano_2023_2030'] = (((eva['pop2030'] - eva['pop2023'])/eva['pop2023'])/7)*100\n",
    "\n",
    "# Cálculo da variação anual da população entre 2030 e 2050\n",
    "# como a taxa é anual divide-se por 10, já que o período de comparação é de 10 anos\n",
    "eva['variacao_ano_2030_2050'] = (((eva['pop2050'] - eva['pop2030'])/eva['pop2030'])/20)*100\n",
    "\n",
    "# Título do gráfico e eixo y do gráfico\n",
    "plt.title('Distribuição da taxa anual de variação entre 2023 e 2030')\n",
    "plt.ylabel('Taxas (%)')\n",
    "\n",
    "# Plot do box plot da variação anual entre 2023 a 2030\n",
    "plt.boxplot(eva['variacao_ano_2023_2030'])\n",
    "\n",
    "# Mostrar gráfico\n",
    "plt.show()\n",
    "\n",
    "# Pode se perceber que a maior parte dos países tem a taxa entre 0% e 1,5%, e que temos 2 outliers na parte\n",
    "# de cima do gráfico. A mediana ficou por volta de 0,6%."
   ]
  },
  {
   "cell_type": "code",
   "execution_count": 14,
   "metadata": {},
   "outputs": [
    {
     "data": {
      "image/png": "[encoded data removed]",
      "text/plain": [
       "<Figure size 432x288 with 1 Axes>"
      ]
     },
     "metadata": {
      "needs_background": "light"
     },
     "output_type": "display_data"
    }
   ],
   "source": [
    "# Título do gráfico e eixo y do gráfico\n",
    "plt.title('Distribuição da taxa anual de variação entre 2030 e 2050')\n",
    "plt.ylabel('Taxas (%)')\n",
    "\n",
    "# Plot do box plot da variação anual entre 2023 a 2030\n",
    "plt.boxplot(eva['variacao_ano_2030_2050'])\n",
    "\n",
    "# Mostrar gráfico\n",
    "plt.show()\n",
    "\n",
    "# Pode se perceber que a maior parte dos países tem a taxa entre -0,6% e 1,4%, e que temos 1 outlier na parte \n",
    "# de cima do gráfico. A mediana também ficou por volta de 0,4%.\n",
    "\n",
    "# As medianas estão bem próximas nos dois gráficos. \n",
    "# Ao comparar os gráficos pode se concluir que a população mundial está crescendo de forma mais lenta de 2030 a 2050. "
   ]
  },
  {
   "cell_type": "markdown",
   "metadata": {},
   "source": [
    "### **c)** O principal objetivo desse exercício é trabalhar com a ideia de unir dataframes distintos e vasculhar possíveis problemas. Além disso, apresentamos uma forma de visualização bastante útil para alguns casos, que é o emprego de mapas.  \n",
    "### Nós já deixamos parte do código abaixo, com comentários do que ele faz. A partir do que lhe é fornecido, faça a união do dataframe contendo a informação dos limites de cada país no mapa com o seus dados de taxa de crescimento entre 2023-2030. Em seguida, plote um mapa com essas taxas em alguma escala de cor (busque os colormaps do pacote de Matplotlib. Eles podem ser bem úteis aqui).\n"
   ]
  },
  {
   "cell_type": "code",
   "execution_count": 15,
   "metadata": {},
   "outputs": [
    {
     "name": "stderr",
     "output_type": "stream",
     "text": [
      "C:\\Users\\vinit\\AppData\\Local\\Temp/ipykernel_2744/402369090.py:5: FutureWarning: The geopandas.dataset module is deprecated and will be removed in GeoPandas 1.0. You can get the original 'naturalearth_lowres' data from https://www.naturalearthdata.com/downloads/110m-cultural-vectors/.\n",
      "  world = gpd.read_file(gpd.datasets.get_path('naturalearth_lowres'))\n",
      "C:\\Users\\vinit\\AppData\\Local\\Temp/ipykernel_2744/402369090.py:7: FutureWarning: The default value of regex will change from True to False in a future version.\n",
      "  world['name'] = world['name'].str.replace('Dominican Rep.', 'Dominican Republic')\n"
     ]
    }
   ],
   "source": [
    "import geopandas as gpd\n",
    "import numpy as np\n",
    "\n",
    "# Aciona arquivo com limites espaciais dos países\n",
    "world = gpd.read_file(gpd.datasets.get_path('naturalearth_lowres'))\n",
    "world['name'] = world['name'].str.replace('United States of America','United States')\n",
    "world['name'] = world['name'].str.replace('Dominican Rep.', 'Dominican Republic')\n",
    "\n",
    "# O formato do arquivo é Geopandas, que, como o nome sugere,\n",
    "# lembra muito o Pandas, organizando os dados em formato de tabela\n",
    "\n",
    "# A principal diferença é a presença de uma coluna chamada \"geometry\"\n",
    "# Ela contém as coordenadas geoógraficas, ou seja, onde a informação está em um mapa.\n",
    "\n",
    "# Você pode usar as mesmas funções que usaria em um DataFrame em um GeoDataFrame\n",
    "# Analise as primeiras linhas e colunas do geodataframe que criamos ('world')"
   ]
  },
  {
   "cell_type": "code",
   "execution_count": 16,
   "metadata": {},
   "outputs": [],
   "source": [
    "# -- Obs: Seu DataFrame final deve ter o nome 'world_data'\n",
    "\n",
    "# Mesclando o Data Frame do geopandas com o Data Frame \"eva\", pelo nome do país\n",
    "world_data = world.merge(eva,\n",
    "         'left',\n",
    "         right_on= 'country',\n",
    "         left_on= 'name')\n",
    "\n",
    "# Cria coluna \"rate23-30\" igual a coluna \"variacao_ano_2023_2030\"\n",
    "world_data['rate23-30'] = world_data['variacao_ano_2023_2030']\n",
    "\n",
    "# Média da coluna \"rate23-30\"\n",
    "media_rate_23_30 = world_data['rate23-30'].mean()\n",
    "\n",
    "# Preenchendo os valores NA da coluna \"rate23-30\" com a média da coluna\n",
    "preencher_media_rate = {'rate23-30': media_rate_23_30}\n",
    "world_data = world_data.fillna(preencher_media_rate)"
   ]
  },
  {
   "cell_type": "code",
   "execution_count": 17,
   "metadata": {},
   "outputs": [
    {
     "data": {
      "image/png": "[encoded data removed]",
      "text/plain": [
       "<Figure size 1008x504 with 2 Axes>"
      ]
     },
     "metadata": {
      "needs_background": "light"
     },
     "output_type": "display_data"
    }
   ],
   "source": [
    "# Rode o código e veja a saída!\n",
    "\n",
    "fig, ax = plt.subplots(figsize=(14, 7))\n",
    "\n",
    "world_data.plot(ax=ax, column='rate23-30', cmap='magma', legend=True, \n",
    "           legend_kwds={'label': \"Taxa  anual de crescimento (%)\", 'orientation': \"horizontal\"})\n",
    "\n",
    "plt.title('Crescimento populacional 2023-2030', loc='center', fontweight=\"bold\", fontsize=14)\n",
    "plt.xticks([])\n",
    "plt.yticks([])\n",
    "plt.xlabel('')  \n",
    "plt.ylabel('')  \n",
    "plt.show()"
   ]
  },
  {
   "cell_type": "markdown",
   "metadata": {},
   "source": [
    "## **Questão Bônus**"
   ]
  },
  {
   "cell_type": "markdown",
   "metadata": {},
   "source": [
    "### **a)** Crie um novo DataFrame com 2 colunas: o Ano e a População Mundial daquele ano (ou seja, a soma de todas as populações dos países)."
   ]
  },
  {
   "cell_type": "code",
   "execution_count": 18,
   "metadata": {},
   "outputs": [
    {
     "data": {
      "text/html": [
       "<div>\n",
       "<style scoped>\n",
       "    .dataframe tbody tr th:only-of-type {\n",
       "        vertical-align: middle;\n",
       "    }\n",
       "\n",
       "    .dataframe tbody tr th {\n",
       "        vertical-align: top;\n",
       "    }\n",
       "\n",
       "    .dataframe thead th {\n",
       "        text-align: right;\n",
       "    }\n",
       "</style>\n",
       "<table border=\"1\" class=\"dataframe\">\n",
       "  <thead>\n",
       "    <tr style=\"text-align: right;\">\n",
       "      <th></th>\n",
       "      <th>Ano</th>\n",
       "      <th>Pop_mundial</th>\n",
       "    </tr>\n",
       "  </thead>\n",
       "  <tbody>\n",
       "    <tr>\n",
       "      <th>0</th>\n",
       "      <td>1980</td>\n",
       "      <td>4442400374</td>\n",
       "    </tr>\n",
       "    <tr>\n",
       "      <th>1</th>\n",
       "      <td>2000</td>\n",
       "      <td>6147055703</td>\n",
       "    </tr>\n",
       "    <tr>\n",
       "      <th>2</th>\n",
       "      <td>2010</td>\n",
       "      <td>6983785000</td>\n",
       "    </tr>\n",
       "    <tr>\n",
       "      <th>3</th>\n",
       "      <td>2022</td>\n",
       "      <td>7973413043</td>\n",
       "    </tr>\n",
       "    <tr>\n",
       "      <th>4</th>\n",
       "      <td>2023</td>\n",
       "      <td>8043615390</td>\n",
       "    </tr>\n",
       "    <tr>\n",
       "      <th>5</th>\n",
       "      <td>2030</td>\n",
       "      <td>8544417648</td>\n",
       "    </tr>\n",
       "    <tr>\n",
       "      <th>6</th>\n",
       "      <td>2050</td>\n",
       "      <td>9707789237</td>\n",
       "    </tr>\n",
       "  </tbody>\n",
       "</table>\n",
       "</div>"
      ],
      "text/plain": [
       "    Ano  Pop_mundial\n",
       "0  1980   4442400374\n",
       "1  2000   6147055703\n",
       "2  2010   6983785000\n",
       "3  2022   7973413043\n",
       "4  2023   8043615390\n",
       "5  2030   8544417648\n",
       "6  2050   9707789237"
      ]
     },
     "execution_count": 18,
     "metadata": {},
     "output_type": "execute_result"
    }
   ],
   "source": [
    "# Data Frame com a população mundial total de cada ano\n",
    "pop_mundial_ano = pd.DataFrame(eva[['pop1980', 'pop2000', 'pop2010', 'pop2022', 'pop2023', 'pop2030','pop2050']].sum())\n",
    "\n",
    "# Resetando o índice do Data Frame\n",
    "pop_mundial_ano = pop_mundial_ano.reset_index()\n",
    "\n",
    "# Renomeando as colunas do Data Frame\n",
    "pop_mundial_ano.columns = ['PopAno','Pop_mundial']\n",
    "\n",
    "# Coluna Ano com os anos de cada população e no formato de int\n",
    "pop_mundial_ano['Ano'] = pop_mundial_ano['PopAno'].str[-4:]\n",
    "pop_mundial_ano = pop_mundial_ano[['Ano', 'Pop_mundial']]\n",
    "pop_mundial_ano['Ano'] = pop_mundial_ano['Ano'].astype(int)\n",
    "pop_mundial_ano"
   ]
  },
  {
   "cell_type": "markdown",
   "metadata": {},
   "source": [
    "### **b)** Faça um gráfico de dispersão da população mundial (com as cores do arco-íris de acordo com o ano) e ajuste uma reta de regressão no gráfico."
   ]
  },
  {
   "cell_type": "code",
   "execution_count": 19,
   "metadata": {},
   "outputs": [
    {
     "data": {
      "image/png": "[encoded data removed]",
      "text/plain": [
       "<Figure size 432x288 with 1 Axes>"
      ]
     },
     "metadata": {
      "needs_background": "light"
     },
     "output_type": "display_data"
    }
   ],
   "source": [
    "# Plot de gráfico scatter com as cores de arco-íris\n",
    "plt.scatter(pop_mundial_ano['Ano'],\n",
    "            pop_mundial_ano['Pop_mundial'],\n",
    "            c= np.arctan2(pop_mundial_ano['Ano'], pop_mundial_ano['Pop_mundial']),\n",
    "            cmap = 'rainbow')\n",
    "\n",
    "# Calculando os parâmetros da regressão linear\n",
    "a, b = np.polyfit(pop_mundial_ano['Ano'],\n",
    "                  pop_mundial_ano['Pop_mundial'],\n",
    "                  1)\n",
    "\n",
    "# Plotando a linha da regressão do gráfico\n",
    "plt.plot(pop_mundial_ano['Ano'],\n",
    "         a*pop_mundial_ano['Ano'] + b,\n",
    "         c = 'k')\n",
    "\n",
    "# Títulos e eixo dos títulos\n",
    "plt.title('Dispersão da população mundial por ano')\n",
    "plt.xlabel('Anos')  \n",
    "plt.ylabel('População mundial') \n",
    "\n",
    "# Mostrar gráfico\n",
    "plt.show()"
   ]
  }
 ],
 "metadata": {
  "kernelspec": {
   "display_name": "Python 3 (ipykernel)",
   "language": "python",
   "name": "python3"
  },
  "language_info": {
   "codemirror_mode": {
    "name": "ipython",
    "version": 3
   },
   "file_extension": ".py",
   "mimetype": "text/x-python",
   "name": "python",
   "nbconvert_exporter": "python",
   "pygments_lexer": "ipython3",
   "version": "3.9.7"
  },
  "vscode": {
   "interpreter": {
    "hash": "aee8b7b246df8f9039afb4144a1f6fd8d2ca17a180786b69acc140d282b71a49"
   }
  }
 },
 "nbformat": 4,
 "nbformat_minor": 2
}
